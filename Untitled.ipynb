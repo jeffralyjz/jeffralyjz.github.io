{
 "cells": [
  {
   "cell_type": "code",
   "execution_count": 1,
   "metadata": {},
   "outputs": [
    {
     "ename": "SyntaxError",
     "evalue": "invalid syntax (<ipython-input-1-0a8042b79a72>, line 2)",
     "output_type": "error",
     "traceback": [
      "\u001b[0;36m  File \u001b[0;32m\"<ipython-input-1-0a8042b79a72>\"\u001b[0;36m, line \u001b[0;32m2\u001b[0m\n\u001b[0;31m    rsurf[func_] :=\u001b[0m\n\u001b[0m                 ^\u001b[0m\n\u001b[0;31mSyntaxError\u001b[0m\u001b[0;31m:\u001b[0m invalid syntax\n"
     ]
    }
   ],
   "source": [
    "Import[\"http://www.mathematicaguidebooks.org/V6/downloads/\\\n",
    "RiemannSurfacePlot3D.m\"]\n",
    "rsurf[func_] := \n",
    "  Grid[{{RiemannSurfacePlot3D[w == func, Re[w], {z, w}, \n",
    "      ImageSize -> 400, \n",
    "      Coloring -> Hue[Rescale[ArcTan[1.4 Im[w]], {-Pi/2, Pi/2}]], \n",
    "      PlotPoints -> {30, 20}, Boxed -> False], \n",
    "     RiemannSurfacePlot3D[w == func, Im[w], {z, w}, ImageSize -> 400, \n",
    "      Coloring -> Hue[Rescale[ArcTan[1.4 Re[w]], {-Pi/2, Pi/2}]], \n",
    "      PlotPoints -> {30, 20}, Boxed -> False]}}]/.(EdgeForm[]:>EdgeForm[Black]);"
   ]
  },
  {
   "cell_type": "code",
   "execution_count": null,
   "metadata": {},
   "outputs": [],
   "source": []
  }
 ],
 "metadata": {
  "kernelspec": {
   "display_name": "Python 2",
   "language": "python",
   "name": "python2"
  },
  "language_info": {
   "codemirror_mode": {
    "name": "ipython",
    "version": 2
   },
   "file_extension": ".py",
   "mimetype": "text/x-python",
   "name": "python",
   "nbconvert_exporter": "python",
   "pygments_lexer": "ipython2",
   "version": "2.7.15"
  }
 },
 "nbformat": 4,
 "nbformat_minor": 2
}
